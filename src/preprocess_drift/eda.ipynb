{
 "cells": [
  {
   "cell_type": "code",
   "execution_count": 1,
   "metadata": {},
   "outputs": [],
   "source": [
    "import numpy as np\n",
    "import pandas as pd\n",
    "\n",
    "pd.set_option('display.max_columns', None)"
   ]
  },
  {
   "cell_type": "code",
   "execution_count": 3,
   "metadata": {},
   "outputs": [
    {
     "data": {
      "text/plain": [
       "array([ 1, 34,  2, 45,  8, 22, 10, 28, 62, 13, 16, 58, 49, 25, 69, 52, 71,\n",
       "       21, 12, 30, 47, 72, 17, 27,  5, 46, 11, 70, 63, 43, 15, 60, 18, 66,\n",
       "        9,  3, 31, 50, 64, 56,  7, 42, 35, 48, 29, 65, 38, 68, 32, 55, 37,\n",
       "       36, 41,  6,  4, 33, 67, 23, 57, 61, 14, 20, 53, 40, 59, 24, 44, 19,\n",
       "       54, 51, 26, 39])"
      ]
     },
     "execution_count": 3,
     "metadata": {},
     "output_type": "execute_result"
    }
   ],
   "source": [
    "df = pd.read_csv('test2.csv')\n",
    "df.tenure.unique()\n",
    "# empty = df[df['TotalCharges'] == ' ']\n",
    "# empty"
   ]
  },
  {
   "cell_type": "code",
   "execution_count": 9,
   "metadata": {},
   "outputs": [
    {
     "name": "stdout",
     "output_type": "stream",
     "text": [
      "<class 'pandas.core.frame.DataFrame'>\n",
      "RangeIndex: 7032 entries, 0 to 7031\n",
      "Data columns (total 63 columns):\n",
      " #   Column                                   Non-Null Count  Dtype  \n",
      "---  ------                                   --------------  -----  \n",
      " 0   gender                                   7032 non-null   object \n",
      " 1   SeniorCitizen                            7032 non-null   int64  \n",
      " 2   Partner                                  7032 non-null   object \n",
      " 3   Dependents                               7032 non-null   object \n",
      " 4   tenure                                   7032 non-null   int64  \n",
      " 5   PhoneService                             7032 non-null   object \n",
      " 6   MultipleLines                            7032 non-null   object \n",
      " 7   InternetService                          7032 non-null   object \n",
      " 8   OnlineSecurity                           7032 non-null   object \n",
      " 9   OnlineBackup                             7032 non-null   object \n",
      " 10  DeviceProtection                         7032 non-null   object \n",
      " 11  TechSupport                              7032 non-null   object \n",
      " 12  StreamingTV                              7032 non-null   object \n",
      " 13  StreamingMovies                          7032 non-null   object \n",
      " 14  Contract                                 7032 non-null   object \n",
      " 15  PaperlessBilling                         7032 non-null   object \n",
      " 16  PaymentMethod                            7032 non-null   object \n",
      " 17  MonthlyCharges                           7032 non-null   float64\n",
      " 18  TotalCharges                             7032 non-null   float64\n",
      " 19  Churn                                    7032 non-null   object \n",
      " 20  gender_male                              7032 non-null   int64  \n",
      " 21  gender_female                            7032 non-null   int64  \n",
      " 22  Partner_yes                              7032 non-null   int64  \n",
      " 23  Partner_no                               7032 non-null   int64  \n",
      " 24  Dependents_yes                           7032 non-null   int64  \n",
      " 25  Dependents_no                            7032 non-null   int64  \n",
      " 26  PhoneService_yes                         7032 non-null   int64  \n",
      " 27  PhoneService_no                          7032 non-null   int64  \n",
      " 28  MultipleLines_yes                        7032 non-null   int64  \n",
      " 29  MultipleLines_no                         7032 non-null   int64  \n",
      " 30  MultipleLines_no_phone_service           7032 non-null   int64  \n",
      " 31  InternetService_dsl                      7032 non-null   int64  \n",
      " 32  InternetService_fiber_optic              7032 non-null   int64  \n",
      " 33  InternetService_no                       7032 non-null   int64  \n",
      " 34  OnlineSecurity_yes                       7032 non-null   int64  \n",
      " 35  OnlineSecurity_no                        7032 non-null   int64  \n",
      " 36  OnlineSecurity_no_internet_service       7032 non-null   int64  \n",
      " 37  OnlineBackup_yes                         7032 non-null   int64  \n",
      " 38  OnlineBackup_no                          7032 non-null   int64  \n",
      " 39  OnlineBackup_no_internet_service         7032 non-null   int64  \n",
      " 40  DeviceProtection_yes                     7032 non-null   int64  \n",
      " 41  DeviceProtection_no                      7032 non-null   int64  \n",
      " 42  DeviceProtection_no_internet_service     7032 non-null   int64  \n",
      " 43  TechSupport_yes                          7032 non-null   int64  \n",
      " 44  TechSupport_no                           7032 non-null   int64  \n",
      " 45  TechSupport_no_internet_service          7032 non-null   int64  \n",
      " 46  StreamingTV_yes                          7032 non-null   int64  \n",
      " 47  StreamingTV_no                           7032 non-null   int64  \n",
      " 48  StreamingTV_no_internet_service          7032 non-null   int64  \n",
      " 49  StreamingMovies_yes                      7032 non-null   int64  \n",
      " 50  StreamingMovies_no                       7032 non-null   int64  \n",
      " 51  StreamingMovies_no_internet_service      7032 non-null   int64  \n",
      " 52  Contract_month-to-month                  7032 non-null   int64  \n",
      " 53  Contract_one_year                        7032 non-null   int64  \n",
      " 54  Contract_two_year                        7032 non-null   int64  \n",
      " 55  PaperlessBilling_yes                     7032 non-null   int64  \n",
      " 56  PaperlessBilling_no                      7032 non-null   int64  \n",
      " 57  PaymentMethod_bank_transfer_(automatic)  7032 non-null   int64  \n",
      " 58  PaymentMethod_credit_card_(automatic)    7032 non-null   int64  \n",
      " 59  PaymentMethod_electronic_check           7032 non-null   int64  \n",
      " 60  PaymentMethod_mailed_check               7032 non-null   int64  \n",
      " 61  Churn_yes                                7032 non-null   int64  \n",
      " 62  Churn_no                                 7032 non-null   int64  \n",
      "dtypes: float64(2), int64(45), object(16)\n",
      "memory usage: 3.4+ MB\n"
     ]
    }
   ],
   "source": [
    "df.info()"
   ]
  },
  {
   "cell_type": "code",
   "execution_count": 10,
   "metadata": {},
   "outputs": [
    {
     "data": {
      "text/plain": [
       "np.float64(64.79820819112628)"
      ]
     },
     "execution_count": 10,
     "metadata": {},
     "output_type": "execute_result"
    }
   ],
   "source": [
    "df.MonthlyCharges.mean()"
   ]
  },
  {
   "cell_type": "code",
   "execution_count": 11,
   "metadata": {},
   "outputs": [],
   "source": [
    "# import matplotlib.pyplot as plt\n",
    "# import seaborn as sns\n",
    "\n",
    "# # Define numerical and categorical columns\n",
    "# numerical_columns = ['SeniorCitizen', 'tenure', 'MonthlyCharges', 'TotalCharges']\n",
    "# categorical_columns = ['gender', 'Partner', 'Dependents', 'PhoneService', 'InternetService', \n",
    "#                        'OnlineSecurity', 'OnlineBackup', 'DeviceProtection', 'TechSupport', \n",
    "#                        'StreamingTV', 'StreamingMovies', 'Contract', 'PaperlessBilling', \n",
    "#                        'PaymentMethod', 'Churn']\n",
    "\n",
    "# # Plot distributions for numerical columns\n",
    "# for col in numerical_columns:\n",
    "#     plt.figure(figsize=(8, 6))\n",
    "#     sns.histplot(df[col], kde=True, bins=30, color='blue')\n",
    "#     plt.title(f'Distribution of {col}')\n",
    "#     plt.xlabel(col)\n",
    "#     plt.ylabel('Frequency')\n",
    "#     plt.grid(True)\n",
    "#     plt.show()\n",
    "\n",
    "# # Plot countplots for categorical columns\n",
    "# for col in categorical_columns:\n",
    "#     plt.figure(figsize=(8, 6))\n",
    "#     sns.countplot(data=df, x=col, palette='viridis', order=df[col].value_counts().index)\n",
    "#     plt.title(f'Distribution of {col}')\n",
    "#     plt.xlabel(col)\n",
    "#     plt.ylabel('Count')\n",
    "#     plt.xticks(rotation=45)\n",
    "#     plt.grid(True, axis='y')\n",
    "#     plt.show()\n"
   ]
  }
 ],
 "metadata": {
  "kernelspec": {
   "display_name": "3.13.1",
   "language": "python",
   "name": "python3"
  },
  "language_info": {
   "codemirror_mode": {
    "name": "ipython",
    "version": 3
   },
   "file_extension": ".py",
   "mimetype": "text/x-python",
   "name": "python",
   "nbconvert_exporter": "python",
   "pygments_lexer": "ipython3",
   "version": "3.13.1"
  }
 },
 "nbformat": 4,
 "nbformat_minor": 2
}
